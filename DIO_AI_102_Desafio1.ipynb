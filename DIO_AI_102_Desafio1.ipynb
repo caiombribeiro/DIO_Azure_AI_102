{
 "cells": [
  {
   "cell_type": "markdown",
   "metadata": {
    "id": "8bZJhkGhH-Bm"
   },
   "source": [
    "# 1º Parte"
   ]
  },
  {
   "cell_type": "code",
   "execution_count": 1,
   "metadata": {
    "colab": {
     "base_uri": "https://localhost:8080/"
    },
    "id": "p4zyb-ob-4QB",
    "outputId": "35297ac9-ada4-4b28-ec69-98f4b0979ce1"
   },
   "outputs": [
    {
     "name": "stdout",
     "output_type": "stream",
     "text": [
      "Requirement already satisfied: requests in /usr/local/lib/python3.10/dist-packages (2.32.3)\n",
      "Collecting python-docx\n",
      "  Downloading python_docx-1.1.2-py3-none-any.whl.metadata (2.0 kB)\n",
      "Requirement already satisfied: charset-normalizer<4,>=2 in /usr/local/lib/python3.10/dist-packages (from requests) (3.4.0)\n",
      "Requirement already satisfied: idna<4,>=2.5 in /usr/local/lib/python3.10/dist-packages (from requests) (3.10)\n",
      "Requirement already satisfied: urllib3<3,>=1.21.1 in /usr/local/lib/python3.10/dist-packages (from requests) (2.2.3)\n",
      "Requirement already satisfied: certifi>=2017.4.17 in /usr/local/lib/python3.10/dist-packages (from requests) (2024.8.30)\n",
      "Requirement already satisfied: lxml>=3.1.0 in /usr/local/lib/python3.10/dist-packages (from python-docx) (5.3.0)\n",
      "Requirement already satisfied: typing-extensions>=4.9.0 in /usr/local/lib/python3.10/dist-packages (from python-docx) (4.12.2)\n",
      "Downloading python_docx-1.1.2-py3-none-any.whl (244 kB)\n",
      "\u001b[2K   \u001b[90m━━━━━━━━━━━━━━━━━━━━━━━━━━━━━━━━━━━━━━━━\u001b[0m \u001b[32m244.3/244.3 kB\u001b[0m \u001b[31m2.6 MB/s\u001b[0m eta \u001b[36m0:00:00\u001b[0m\n",
      "\u001b[?25hInstalling collected packages: python-docx\n",
      "Successfully installed python-docx-1.1.2\n"
     ]
    }
   ],
   "source": [
    "!pip install requests python-docx"
   ]
  },
  {
   "cell_type": "code",
   "execution_count": null,
   "metadata": {},
   "outputs": [],
   "source": [
    "#Eu criei variaveis de ambiente para passar para o GitHub sem problemas\n",
    "\n",
    "from dotenv import load_dotenv\n",
    "import os\n",
    "\n",
    "load_dotenv()\n",
    "tlt_key = os.getenv(\"TLT_API_KEY\")\n",
    "oai_key = os.getenv(\"OAI_API_KEY\")"
   ]
  },
  {
   "cell_type": "code",
   "execution_count": 19,
   "metadata": {
    "id": "LWrc845u_171"
   },
   "outputs": [],
   "source": [
    "import requests\n",
    "from docx import Document\n",
    "\n",
    "\n",
    "subscription_key = tlt_key\n",
    "endpoint = \"https://api.cognitive.microsofttranslator.com\"\n",
    "location = \"brazilsouth\"\n",
    "target_language = 'pt-br'\n",
    "\n",
    "\n",
    "def translator_text(text, target_language):\n",
    "  path = '/translate'\n",
    "  constructed_url = endpoint + path\n",
    "  headers = {\n",
    "      \"Ocp-Apim-Subscription-Key\": subscription_key,\n",
    "      \"Ocp-Apim-Subscription-Region\": location,\n",
    "      \"Content-type\": \"application/json\",\n",
    "      \"X-ClientTraceId\": str(os.urandom(16))\n",
    "  }\n",
    "\n",
    "  body = [{\n",
    "      \"text\": text\n",
    "  }]\n",
    "\n",
    "  params = {\n",
    "    'api-version': '3.0',\n",
    "    'from': 'en',\n",
    "    'to': target_language\n",
    "  }\n",
    "\n",
    "  request = requests.post(constructed_url, params=params, headers=headers, json=body)\n",
    "\n",
    "  response = request.json()\n",
    "\n",
    "  return response[0]['translations'][0]['text']\n",
    "  # return response\n",
    "\n"
   ]
  },
  {
   "cell_type": "code",
   "execution_count": 20,
   "metadata": {
    "colab": {
     "base_uri": "https://localhost:8080/",
     "height": 70
    },
    "id": "r3weZ39TCK6K",
    "outputId": "ad005dd7-baaa-40af-85e4-988ab3ec1962"
   },
   "outputs": [
    {
     "data": {
      "application/vnd.google.colaboratory.intrinsic+json": {
       "type": "string"
      },
      "text/plain": [
       "'As soft skills referem-se a uma combinação de habilidades interpessoais, habilidades de comunicação e inteligência emocional que permitem que os indivíduos trabalhem efetivamente com os outros. '"
      ]
     },
     "execution_count": 20,
     "metadata": {},
     "output_type": "execute_result"
    }
   ],
   "source": [
    "texto = \"Soft skills refer to a combination of interpersonal skills, communication abilities, and emotional intelligence that enable individuals to work effectively with others. \"\n",
    "\n",
    "translator_text(texto, target_language)"
   ]
  },
  {
   "cell_type": "code",
   "execution_count": 25,
   "metadata": {
    "id": "0Myzq8DIE1zI"
   },
   "outputs": [],
   "source": [
    "def translator_document(path):\n",
    "  document = Document(path)\n",
    "  full_text = []\n",
    "  for paragrafh in document.paragraphs:\n",
    "    translated_text = translator_text(paragrafh.text, target_language)\n",
    "    full_text.append(translated_text)\n",
    "\n",
    "  translated_doc = Document()\n",
    "  for line in full_text:\n",
    "    translated_doc.add_paragraph(line)\n",
    "\n",
    "  path_translated = path.replace('.docx', f'_{target_language}.docx')\n",
    "  translated_doc.save(path_translated)\n"
   ]
  },
  {
   "cell_type": "code",
   "execution_count": 26,
   "metadata": {
    "id": "A1OzexKTGPl_"
   },
   "outputs": [],
   "source": [
    "input_file = \"/content/Soft_skills.docx\"\n",
    "\n",
    "translator_document(input_file)"
   ]
  },
  {
   "cell_type": "markdown",
   "metadata": {
    "id": "yqk0wuBFIDQB"
   },
   "source": [
    "# 2º Parte"
   ]
  },
  {
   "cell_type": "code",
   "execution_count": 27,
   "metadata": {
    "colab": {
     "base_uri": "https://localhost:8080/"
    },
    "id": "MAnWnEESIHHM",
    "outputId": "a6b423d5-d6e0-4856-ff40-91b2a3f771f9"
   },
   "outputs": [
    {
     "name": "stdout",
     "output_type": "stream",
     "text": [
      "Requirement already satisfied: requests in /usr/local/lib/python3.10/dist-packages (2.32.3)\n",
      "Requirement already satisfied: beautifulsoup4 in /usr/local/lib/python3.10/dist-packages (4.12.3)\n",
      "Requirement already satisfied: openai in /usr/local/lib/python3.10/dist-packages (1.54.4)\n",
      "Collecting langchain-openai\n",
      "  Downloading langchain_openai-0.2.9-py3-none-any.whl.metadata (2.6 kB)\n",
      "Requirement already satisfied: charset-normalizer<4,>=2 in /usr/local/lib/python3.10/dist-packages (from requests) (3.4.0)\n",
      "Requirement already satisfied: idna<4,>=2.5 in /usr/local/lib/python3.10/dist-packages (from requests) (3.10)\n",
      "Requirement already satisfied: urllib3<3,>=1.21.1 in /usr/local/lib/python3.10/dist-packages (from requests) (2.2.3)\n",
      "Requirement already satisfied: certifi>=2017.4.17 in /usr/local/lib/python3.10/dist-packages (from requests) (2024.8.30)\n",
      "Requirement already satisfied: soupsieve>1.2 in /usr/local/lib/python3.10/dist-packages (from beautifulsoup4) (2.6)\n",
      "Requirement already satisfied: anyio<5,>=3.5.0 in /usr/local/lib/python3.10/dist-packages (from openai) (3.7.1)\n",
      "Requirement already satisfied: distro<2,>=1.7.0 in /usr/local/lib/python3.10/dist-packages (from openai) (1.9.0)\n",
      "Requirement already satisfied: httpx<1,>=0.23.0 in /usr/local/lib/python3.10/dist-packages (from openai) (0.27.2)\n",
      "Requirement already satisfied: jiter<1,>=0.4.0 in /usr/local/lib/python3.10/dist-packages (from openai) (0.7.1)\n",
      "Requirement already satisfied: pydantic<3,>=1.9.0 in /usr/local/lib/python3.10/dist-packages (from openai) (2.9.2)\n",
      "Requirement already satisfied: sniffio in /usr/local/lib/python3.10/dist-packages (from openai) (1.3.1)\n",
      "Requirement already satisfied: tqdm>4 in /usr/local/lib/python3.10/dist-packages (from openai) (4.66.6)\n",
      "Requirement already satisfied: typing-extensions<5,>=4.11 in /usr/local/lib/python3.10/dist-packages (from openai) (4.12.2)\n",
      "Requirement already satisfied: langchain-core<0.4.0,>=0.3.17 in /usr/local/lib/python3.10/dist-packages (from langchain-openai) (0.3.18)\n",
      "Collecting tiktoken<1,>=0.7 (from langchain-openai)\n",
      "  Downloading tiktoken-0.8.0-cp310-cp310-manylinux_2_17_x86_64.manylinux2014_x86_64.whl.metadata (6.6 kB)\n",
      "Requirement already satisfied: exceptiongroup in /usr/local/lib/python3.10/dist-packages (from anyio<5,>=3.5.0->openai) (1.2.2)\n",
      "Requirement already satisfied: httpcore==1.* in /usr/local/lib/python3.10/dist-packages (from httpx<1,>=0.23.0->openai) (1.0.6)\n",
      "Requirement already satisfied: h11<0.15,>=0.13 in /usr/local/lib/python3.10/dist-packages (from httpcore==1.*->httpx<1,>=0.23.0->openai) (0.14.0)\n",
      "Requirement already satisfied: PyYAML>=5.3 in /usr/local/lib/python3.10/dist-packages (from langchain-core<0.4.0,>=0.3.17->langchain-openai) (6.0.2)\n",
      "Requirement already satisfied: jsonpatch<2.0,>=1.33 in /usr/local/lib/python3.10/dist-packages (from langchain-core<0.4.0,>=0.3.17->langchain-openai) (1.33)\n",
      "Requirement already satisfied: langsmith<0.2.0,>=0.1.125 in /usr/local/lib/python3.10/dist-packages (from langchain-core<0.4.0,>=0.3.17->langchain-openai) (0.1.143)\n",
      "Requirement already satisfied: packaging<25,>=23.2 in /usr/local/lib/python3.10/dist-packages (from langchain-core<0.4.0,>=0.3.17->langchain-openai) (24.2)\n",
      "Requirement already satisfied: tenacity!=8.4.0,<10.0.0,>=8.1.0 in /usr/local/lib/python3.10/dist-packages (from langchain-core<0.4.0,>=0.3.17->langchain-openai) (9.0.0)\n",
      "Requirement already satisfied: annotated-types>=0.6.0 in /usr/local/lib/python3.10/dist-packages (from pydantic<3,>=1.9.0->openai) (0.7.0)\n",
      "Requirement already satisfied: pydantic-core==2.23.4 in /usr/local/lib/python3.10/dist-packages (from pydantic<3,>=1.9.0->openai) (2.23.4)\n",
      "Requirement already satisfied: regex>=2022.1.18 in /usr/local/lib/python3.10/dist-packages (from tiktoken<1,>=0.7->langchain-openai) (2024.9.11)\n",
      "Requirement already satisfied: jsonpointer>=1.9 in /usr/local/lib/python3.10/dist-packages (from jsonpatch<2.0,>=1.33->langchain-core<0.4.0,>=0.3.17->langchain-openai) (3.0.0)\n",
      "Requirement already satisfied: orjson<4.0.0,>=3.9.14 in /usr/local/lib/python3.10/dist-packages (from langsmith<0.2.0,>=0.1.125->langchain-core<0.4.0,>=0.3.17->langchain-openai) (3.10.11)\n",
      "Requirement already satisfied: requests-toolbelt<2.0.0,>=1.0.0 in /usr/local/lib/python3.10/dist-packages (from langsmith<0.2.0,>=0.1.125->langchain-core<0.4.0,>=0.3.17->langchain-openai) (1.0.0)\n",
      "Downloading langchain_openai-0.2.9-py3-none-any.whl (50 kB)\n",
      "\u001b[2K   \u001b[90m━━━━━━━━━━━━━━━━━━━━━━━━━━━━━━━━━━━━━━━━\u001b[0m \u001b[32m50.4/50.4 kB\u001b[0m \u001b[31m1.0 MB/s\u001b[0m eta \u001b[36m0:00:00\u001b[0m\n",
      "\u001b[?25hDownloading tiktoken-0.8.0-cp310-cp310-manylinux_2_17_x86_64.manylinux2014_x86_64.whl (1.2 MB)\n",
      "\u001b[2K   \u001b[90m━━━━━━━━━━━━━━━━━━━━━━━━━━━━━━━━━━━━━━━━\u001b[0m \u001b[32m1.2/1.2 MB\u001b[0m \u001b[31m12.1 MB/s\u001b[0m eta \u001b[36m0:00:00\u001b[0m\n",
      "\u001b[?25hInstalling collected packages: tiktoken, langchain-openai\n",
      "Successfully installed langchain-openai-0.2.9 tiktoken-0.8.0\n"
     ]
    }
   ],
   "source": [
    "!pip install requests beautifulsoup4 openai langchain-openai"
   ]
  },
  {
   "cell_type": "code",
   "execution_count": 32,
   "metadata": {
    "colab": {
     "base_uri": "https://localhost:8080/",
     "height": 227
    },
    "id": "eb0Co33wISJb",
    "outputId": "4b20199e-c2ad-46b4-c8e4-9dadcd4e89e4"
   },
   "outputs": [
    {
     "data": {
      "application/vnd.google.colaboratory.intrinsic+json": {
       "type": "string"
      },
      "text/plain": [
       "'11 Practical Ways to Bring Side Income as a Developer 💰 - DEV Community\\nSkip to content\\nNavigation menu\\nSearch\\nPowered by\\nSearch\\nAlgolia\\nSearch\\nLog in\\nCreate account\\nDEV Community\\nClose\\nAdd reaction\\nLike\\nUnicorn\\nExploding Head\\nRaised Hands\\nFire\\nJump to Comments\\nSave\\nMore...\\nCopy link\\nCopy link\\nCopied to Clipboard\\nShare to X\\nShare to LinkedIn\\nShare to Facebook\\nShare to Mastodon\\nReport Abuse\\nAnmol Baranwal\\nfor\\nOpire\\nPosted on\\nNov 20\\n11 Practical Ways to Bring Side Income as a Developer 💰\\n# programming\\n# beginners\\n# opensource\\n# productivity\\nIt’s always smart not to rely on just one source of income.\\nBringing in side income might seem tough at first, but for developers, it’s surprisingly easier than you think.\\nThis post briefly outlines 21 practical ways to build some side revenue as a developer.\\nThis guide will help you build a sustainable income.\\n1. Solve open source bounties.\\nThis is one of the most underrated ways and is often neglected.\\nIf you\\'re a decent coder, you can earn from $200 to $10k with a single pull request.\\nThat\\'s the power of open source bounties.\\nYou can find those bounties on\\nOpire . They are moving towards the vision that anyone can make a living from open source.\\nAs a developer, you can also build credibility and showcase it in your portfolio because you\\'re solving real-world problems people are willing to pay for.\\nMany reputed organizations like Cal.com use these bounties to speed up their projects.\\nEven the subscriptions that Opire launched recently are very profitable. Developers receive 100% of the rewards regardless. No tricks in that!\\nIf you\\'re confused about where to get started, I recommend reading the\\nofficial docs .\\nBy the way, Opire is completely open source so it builds more trust. You can star the repository and join the\\ndiscord community\\nto show support!\\nStar Opire ⭐️\\n2. Technical writing for guest posts.\\nA lot of companies accept guest writers to publish content on their blogs.\\nAll you need is the ability to create content around their product and possibly with different tech stacks.\\nThe work is remote with a high pay rate and you reach more people (grow your network and secure future work).\\nThe main thing is to communicate technical concepts in a way that is understandable to different audiences.\\nIf you\\'re struggling to get accepted into any of these programs, start by writing your own posts and publishing them to popular platforms like here on DEV, Devdojo, Medium or Hackernoon. This will build up your writing skills and help you show your knowledge to potential companies.\\nOne decent website is\\nwhopaystechnicalwriters\\nwhere you will find content agencies, publications and community writer programs. You can filter based on your tech stack.\\nSome other companies that pay high for quality posts:\\nAirbyte\\n- $900 per article.\\nCircleCI\\n- $350 - $600 per article.\\nDigitalOcean\\n- $400 per article.\\nLinode\\n- $400 per article.\\nAppSignal\\n- $300 per article.\\nAuth0\\n- $450 per article.\\nCorrelium\\n- $500 - $1500 per article.\\nLambdaTest\\n- $200 per article.\\nTutorialspoint\\n- $500 per article.\\nA great list of 84 such websites was put together\\xa0by\\nJulia here on Devto .\\n3. Participate in Hackathons.\\nYes, I know. There is no guaranteed payout in this case.\\nBut in the worst case, you will have a decent project in your portfolio which can help you land better opportunities.\\nCoding competitions are happening remotely all the time. These are usually sponsored by companies that pay out cash prizes to the winners.\\nSome of the decent websites where you can find the best hackathons to participate in:\\nMLH Global Hackathons\\n- The best place to find remote and in-person events.\\nDevpost\\n- The prizes can get upto $170k.\\nDevto challenges\\n- Mini hackathons on this platform that allow you to build in public.\\nKaggle\\n- For Data Science and Machine Learning competitions.\\nDevfolio\\n- another great place to find hackathons. They also offer a program to connect talented developers with startups.\\nUnstop\\n- all kinds of competitions including no-code events.\\nHackathons are a great way of meeting new people and learning new stuff, plus they\\'re just a lot of fun!\\nWhen I was in college, I participated in around 100+ competitions combined on Unstop and Devfolio.\\n4. Make digital products.\\nCreating and marketing digital products like guides, website templates, plugins or courses can help you build decent passive income.\\nThe best part? It needs very little maintenance and these products can be sold at any point in the future.\\nThe only thing that is required is to create value that meets market demands. Plus, you should be able to market these otherwise it makes no sense to create it.\\nPopular platforms for selling digital products:\\nGumRoad \\xa0- the best platform which includes subscriptions to email (10% flat fee)\\nCreative Market\\n- For design assets and themes\\nAppSumo \\xa0- Code, apps, extensions, templates, courses and more.\\nThemeForest\\n- For selling WordPress themes and website templates. You will become an Envato Market Author in the process.\\nThis one might be tricky because it\\'s tough to find a proper market fit but the more value you create, the better is the chance that people would be interested in your product.\\n5. Build a SAAS - Indie Hacking.\\nThis is my favorite among the list and for obvious reasons.\\nBuilding a Software as a Service (SaaS) startup can be very useful, both financially and professionally as a developer.\\n🎯 What is Indie Hacking?\\nIt is the process of building and selling a product independently, without the support of a large organization or team.\\nIndie hacking can be challenging and you will have to do everything.\\xa0But as some say good will goes a long way.\\nThere are many popular Indie Hackers like Tibo and Marc who have made more than $1M. In the process, they have built a huge audience.\\nTrust me, it\\'s the best way to grow but you need to play the long game.\\nTwo popular reads that I recommend checking out:\\nI’ve been indie hacking for a few months. Here’s what I learned\\nby Tamerlan.\\nA guide to Indie Hacking\\nby Rameerez.\\n$29 paid guide by levelsio that you can check out:\\nThe Indie Hacker Handbook .\\nIf you\\'re able to pull this off, it\\'s one of the best revenue models you can get.\\n6. User Testing.\\nCompanies developing production-level apps rely on user feedback to improve their products and that’s where user testing services step in.\\nYou can spend 10–30 minutes testing a website or app, sharing your feedback or completing a survey and getting paid for your effort.\\nWhile this isn’t exclusive to developers, your tech knowledge gives you an edge over others. You can complete tasks faster, provide decent feedback and earn much faster than the average user.\\nIn the process, you will learn the workflow and it might be useful for you if you are building your own app.\\nSome of the websites you can check out:\\nTrymata \\xa0- Earn up to $10 per website or app test\\nUser Testing \\xa0- Pays via PayPal, requires screen share and/or webcam access during the test session. Earn about $10 per test, with longer or live sessions paying up to $50 for some tests.\\nUserlytics \\xa0- Earn between $5 and $50 depending on the difficulty and length of the testing session.\\nIntelliZoom \\xa0- Earn between $2 and $10 per 10-minute study. Paid via PayPal with a 3-5 day delay.\\nTestingTime \\xa0- Option for in-person or video call tests. Less regular, but longer testing sessions. Lower paying than alternatives, when you take into account the delay between sessions.\\nuTest\\n- $10 to $100+ per test depending upon session\\'s requirements.\\nRespondent\\n- You can also check this if you are interested in research work.\\nTo be honest, it\\'s repeated work so it is more useful for devs who love testing new apps.\\n7. Freelancing.\\nThis is one of the most popular ways of sustainable income for developers.\\nBut it\\'s very saturated in my experience and income can be very unstable because finding clients is tough. You will need to build a reputation and manage your finances accordingly.\\nIt can heavily vary based on your niche, platform and your experience.\\nSome of the popular platforms for developer gigs you can check out:\\nFiverr\\n- Kind of a huge marketplace, great for developers who are just starting out in freelancing. Ideal for very specific services.\\nContra\\n- You will be an Independent expert that helps companies because a lot of them like Framer hire from here. Plus, it\\'s 100% commission free so you won\\'t pay any charges. Please note that I\\'ve included my referral but it won\\'t give me any revenue, so feel free to join using this.\\nUpwork\\n- Upwork has a concept of connects and is generally for experienced developers. You can get long-term contracts and higher-paying jobs here. Suitable for those who prefer to work on more significant projects.\\nPeople per Hour\\n- This platform is good for developers in the European market. It emphasizes local business connections and offers a good balance between short-term and long-term projects.\\nPeoplePerHour\\n- Offers hourly and fixed-price projects.\\nToptal\\n- This is another platform for experienced developers with higher-paying offers.\\nI don\\'t prefer platforms that require investment. For instance, we need to buy connects on Upwork (once the limited ones are used) and it offers no such guarantee of any return.\\nMy suggestion would be to directly reach out to potential customers and work for them. It will make you feel better and stand out from the noise on the platforms.\\n8. Newsletters.\\nEmail newsletters and subscription-based RSS feeds have grown huge these recent years.\\nAll you need is a little bit of experience in your niche and the ability to write properly.\\nDevelopers need to be updated so they always love reading about new stuff especially if it includes your experience.\\nIn the process, you will build up a large (and very valuable) subscriber base and will be able to offer advertisements during your newsletters. A lot of creators do the same especially since it creates more value.\\nOr you can charge a smaller number of users to receive your updates.\\nConsole\\nis a sample newsletter that has around 30k+ subscribers.\\nThey send 2-3 of the most interesting dev tools every week\\nPopular platforms that you should check out:\\nSubstack\\nBeehiiv\\nConvertKit\\nSteady\\nButtonDown\\nGhost\\nIt\\'s important to take things one at a time, so research and choose one platform that might fit your needs. Substack and Beehiiv might be great choices.\\n9. Grants and open source internships.\\nThere are grants and corporate sponsorships available across different fields like open source, innovation, DeFi and even AI. These funds are basically to support your living expenses for a short duration while you work on a particular project.\\nIt\\'s similar to open source internships.\\nSome of the ones you should definitely check out:\\nGoogle Summer of Code (GSoC) \\xa0- Global program for developers (other than students can also apply now) to contribute to open source projects, with stipends typically ranging from $1500 to $3300. Became very popular in recent years.\\nGoogle Season of Docs\\n- Technical writers contribute to open source projects. Participating projects receive between $5,000 and $15,000 grants which are then distributed to contributors, usually via Open Collective.\\nGitCoin \\xa0- A crowdfunding platform that funds open source projects, particularly in Ethereum and Web3. Funding varies based on community support.\\nOutreachy \\xa0- Provides three-month internships for underrepresented groups in technology, with stipends typically around $5,500.\\nMozilla Open Source Support (MOSS) \\xa0- Grants for open source software development, particularly for projects that align with Mozilla\\'s mission.\\nThe Linux Foundation Grants \\xa0- Offers various grants and fellowships for developers working on Linux Foundation projects.\\nKnight Foundation \\xa0- Offers grants for tech projects that promote quality journalism. Grant amounts vary widely based on project scope.\\nNumFOCUS Small Development Grants \\xa0- Supports small projects in data science and scientific computing. Grant amounts vary ($285k split between all applicants).\\nThis builds a huge credibility and in the meantime, you\\'re paid a decent amount for the effort.\\nA great list of similar open source programs you can find on\\nGitHub .\\n10. API as a Service.\\nMost of the developers are not aware of this method. You can earn a passive income from your API.\\nAnother common term to refer to this is\\nAPI Monetization .\\nYou can try some popular API monetization platforms to publish, manage and monetize your APIs:\\nRapidAPI Hub\\n- One of the largest platforms for discovering and monetizing APIs, using subscription-based pricing models.\\nTyk\\n- open source API gateway that supports API management and monetization, with flexible deployment options.\\nApigee\\n- Google Cloud platform with API monetization and analytics.\\nPostman API Network\\n- Allows devs to publish APIs and use Postman’s ecosystem for collaboration.\\nYou can read the detailed guide on how to\\nEarn a Passive Income by Monetizing APIs as a Developer\\nby RapidAPI. It covers how to first build an API from scratch before selling it on\\xa0RapidAPI Hub.\\n11. Building a paid community.\\nThis is another underrated way to build decent money using your experience as a developer.\\nNewsletters are another kind of community but it\\'s generally one way of communication.\\nA community where members can talk and learn from each other is more useful. You can enable monthly or yearly subscriptions to avoid adding people who are not serious.\\nThis is just 1/3rd of the active channels\\nTrust me, a paid community of 500 members is very strong. I\\'ve been part of several paid communities and the difference is very clear.\\nMy community is public because I don\\'t like sharing my experience only with people who can pay, but at the same time, nobody can deny the value of a paid community.\\nI know it\\'s easier said than done.\\nThese are just basic important ideas and it can be very hard to find the right clients at first.\\nBut one single opportunity can change your life in a way you cannot even imagine. Take a leap and explore these methods to build a proper side income.\\nI hope at least one of these can help you.\\nHave a great day! Until next time :)\\nIf you loved this,\\nplease follow for more :)\\nThank you for reading,\\nAnmol\\n🥰\\nFollow Opire for more content like this.\\nOpire\\nFollow\\nOpire is a bounty platform for developers focused on open-source projects. Developers can earn money by solving real-world issues, collaborating with top organizations, and improving the open-source ecosystem.\\nTop comments\\n(5)\\nSubscribe\\nPersonal\\nTrusted User\\nCreate template\\nTemplates let you quickly answer FAQs or store snippets for re-use.\\nSubmit\\nPreview\\nDismiss\\nCollapse\\nExpand\\nSyakir\\nSyakir\\nSyakir\\nFollow\\nSenior Frontend Engineer Based in Indonesia.\\nSkills: Typescript, React, Vue.js, Storybook, Angular, Wordpress Theme Development\\nEmail\\nsyakirurahman@gmail.com\\nLocation\\nBogor\\nWork\\nFrontend Engineer\\nJoined\\nMar 13, 2020\\n•\\nNov 20\\nDropdown menu\\nCopy link\\nHide\\nGreat post Anmol!\\nDevelopers have a lot of ways to ear money. But make sure to focus on 1 way at a time :D\\nLike comment:\\nLike comment:\\n3 \\xa0likes\\nLike\\nComment button\\nReply\\nCollapse\\nExpand\\nAnmol Baranwal\\nAnmol Baranwal\\nAnmol Baranwal\\nFollow\\nTechnical writer (500k+ Reads) • Software developer (200+ PRs) • Loves Open Source • Join my community at \"https://dub.sh/opensouls\"\\nEmail for collab\\nEmail\\nhi@anmolbaranwal.com\\nLocation\\nIndia\\nEducation\\nComputer Science\\nWork\\nTechnical Writer - open to opportunities\\nJoined\\nOct 21, 2022\\n•\\nNov 20\\nDropdown menu\\nCopy link\\nHide\\nThanks for reading Syakir!\\nAI has made many things possible, even a little coding knowledge can help someone build awesome stuff. Plus, focusing on one thing for long enough will make someone the best in the field and that is why they have a chance of earning more compared to beginners.\\nI think this is a good place to share yours as well. Everyone should read it!\\n💸 How to Make Money From Coding: A Beginner-Friendly Practical Guide\\nSyakir ・ Aug 8\\n#beginners\\n#webdev\\n#programming\\n#learning\\nLike comment:\\nLike comment:\\n1 \\xa0like\\nLike\\nComment button\\nReply\\nCollapse\\nExpand\\nRohan Sharma\\nRohan Sharma\\nRohan Sharma\\nFollow\\nDive deeper than the deepest! || Programmer || Developer || Designer || Technical Writer\\nEmail\\nspecialrohansharma200@gmail.com\\nLocation\\nBihar, India\\nEducation\\nB.tech, Nalanda College of Engineering, Chandi, 2022-26\\nPronouns\\nhe/him\\nJoined\\nAug 16, 2024\\n•\\nNov 20\\nDropdown menu\\nCopy link\\nHide\\nAdd Opire\\'s discord link also!\\nLike comment:\\nLike comment:\\n2 \\xa0likes\\nLike\\nComment button\\nReply\\nCollapse\\nExpand\\nAnmol Baranwal\\nAnmol Baranwal\\nAnmol Baranwal\\nFollow\\nTechnical writer (500k+ Reads) • Software developer (200+ PRs) • Loves Open Source • Join my community at \"https://dub.sh/opensouls\"\\nEmail for collab\\nEmail\\nhi@anmolbaranwal.com\\nLocation\\nIndia\\nEducation\\nComputer Science\\nWork\\nTechnical Writer - open to opportunities\\nJoined\\nOct 21, 2022\\n•\\nNov 20\\nDropdown menu\\nCopy link\\nHide\\nI\\'ve already added it :)\\nLike comment:\\nLike comment:\\n1 \\xa0like\\nLike\\nComment button\\nReply\\nCollapse\\nExpand\\nSenthilnathan Subramanian\\nSenthilnathan Subramanian\\nSenthilnathan Subramanian\\nFollow\\nZENLIFE. Kungfu Panda chants \"Inner Peace. Inner Peace. Inner Peace.\". I chant \" Om Shanti Shanti Shanti\".\\nEducation\\nBharathiar University, India\\nPronouns\\nHe/Him\\nJoined\\nSep 4, 2024\\n•\\nNov 20\\nDropdown menu\\nCopy link\\nHide\\nSuper. Super. Anmol Baranwal. Thank You. God Bless.\\nLike comment:\\nLike comment:\\n1 \\xa0like\\nLike\\nComment button\\nReply\\nCode of Conduct\\n•\\nReport abuse\\nAre you sure you want to hide this comment? It will become hidden in your post, but will still be visible via the comment\\'s\\npermalink .\\nHide child comments as well\\nConfirm\\nFor further actions, you may consider blocking this person and/or\\nreporting abuse\\nRead next\\nGenXD: The AI System Generating Realistic 3D and 4D Scenes Without Complex Modeling\\nMike Young -\\nNov 6\\nSynchronizing Data from InfluxDB to Doris with SeaTunnel\\nApache SeaTunnel -\\nNov 6\\nJavaScript SECRETS: Become a coding wizard!\\nNikola Perišić -\\nNov 18\\nIntroducing the Flashcards Game with LLM Assistant\\nVladimir Dimitrov\\n-\\nNov 6\\nOpire\\nFollow\\nA bounty platform for software developers\\nOpire is a bounty platform for developers focused on open-source projects. Developers can earn money by solving real-world issues, collaborating with top organizations, and improving the open-source ecosystem.\\nSee our bounties\\nMore from\\nOpire\\nHiring in the Open - How Companies Can Discover Top Talent via Opire\\n# opensource\\n# webdev\\n# beginners\\n# programming\\n💸 Make Open Source Contributions More Rewarding with Opire 🤑\\n# opensource\\n# webdev\\n# beginners\\n# programming\\n🎯 Case Study: How AutoKey is Exploring Opire to Attract Python Developers\\n# opensource\\n# programming\\n# python\\n# javascript\\nThank you to our Diamond Sponsor\\nNeon\\nfor supporting our community.\\nDEV Community\\n— A constructive and inclusive social network for software developers. With you every step of your journey.\\nHome\\nDEV++\\nPodcasts\\nVideos\\nTags\\nDEV Help\\nForem Shop\\nAdvertise on DEV\\nDEV Challenges\\nDEV Showcase\\nAbout\\nContact\\nFree Postgres Database\\nGuides\\nSoftware comparisons\\nCode of Conduct\\nPrivacy Policy\\nTerms of use\\nBuilt on\\nForem\\n— the\\nopen source\\nsoftware that powers\\nDEV\\nand other inclusive communities.\\nMade with love and\\nRuby on Rails . DEV Community\\n©\\n2016 - 2024.\\nWe\\'re a place where coders share, stay up-to-date and grow their careers.\\nLog in\\nCreate account'"
      ]
     },
     "execution_count": 32,
     "metadata": {},
     "output_type": "execute_result"
    }
   ],
   "source": [
    "import requests\n",
    "from bs4 import BeautifulSoup\n",
    "\n",
    "def extract_text_from_url(url):\n",
    "    response = requests.get(url)\n",
    "\n",
    "    if response.status_code == 200:\n",
    "      soup = BeautifulSoup(response.text, 'html.parser')\n",
    "      for script_or_style in soup([\"script\", \"style\"]):\n",
    "        script_or_style.decompose()\n",
    "      text = soup.get_text(separator=\" \")\n",
    "      #Limpar Texto\n",
    "      lines = (line.strip() for line in text.splitlines())\n",
    "      parts = (phrase.strip() for line in lines for phrase in line.split(\"  \"))\n",
    "      text = '\\n'.join(part for part in parts if part)\n",
    "    else:\n",
    "      print(f\"Failed to retrieve the webpage. Status code: {response.status_code}\")\n",
    "      return None\n",
    "\n",
    "    return text\n",
    "\n",
    "extract_text_from_url(\"https://dev.to/opire/11-practical-ways-to-bring-side-income-as-a-developer-5apm\")"
   ]
  },
  {
   "cell_type": "code",
   "execution_count": null,
   "metadata": {
    "id": "DZnPJI8iJ_u-"
   },
   "outputs": [],
   "source": [
    "from langchain_openai.chat_models import AzureChatOpenAI\n",
    "\n",
    "client = AzureChatOpenAI(\n",
    "    azure_endpoint=\"https://oai-dio-bootcamp-dev-eastus-001-caio.openai.azure.com/\",\n",
    "    api_key= oai_key,\n",
    "    api_version= \"2024-02-15-preview\",\n",
    "    deployment_name=\"gpt-4o-mini\",\n",
    "    max_retries=0\n",
    ")\n",
    "\n",
    "def translate_article(text, lang):\n",
    "  messages = [\n",
    "      (\"system\",\"Você atua como tradutor de textos\"),\n",
    "      (\"user\", f\"Traduza o {text} para o idioma {lang} e responda em markdown\")\n",
    "  ]\n",
    "\n",
    "  response = client.invoke(messages)\n",
    "  print(response.content)\n",
    "  return(response.content)"
   ]
  },
  {
   "cell_type": "code",
   "execution_count": 43,
   "metadata": {
    "colab": {
     "base_uri": "https://localhost:8080/",
     "height": 53
    },
    "id": "TqUC_yYgLwyk",
    "outputId": "9576035a-d146-4348-acc6-3f4f90f3de49"
   },
   "outputs": [
    {
     "name": "stdout",
     "output_type": "stream",
     "text": [
      "Vamos ver se o deployment foi bem-sucedido.\n"
     ]
    },
    {
     "data": {
      "application/vnd.google.colaboratory.intrinsic+json": {
       "type": "string"
      },
      "text/plain": [
       "'Vamos ver se o deployment foi bem-sucedido.'"
      ]
     },
     "execution_count": 43,
     "metadata": {},
     "output_type": "execute_result"
    }
   ],
   "source": [
    "translate_article(\"Let's see if the deployment was succeded.\", \"portugues\")"
   ]
  },
  {
   "cell_type": "code",
   "execution_count": 44,
   "metadata": {
    "colab": {
     "base_uri": "https://localhost:8080/",
     "height": 443
    },
    "id": "UfYmrGopMW_V",
    "outputId": "b16d75b9-9453-480d-aebd-60c9400e349f"
   },
   "outputs": [
    {
     "ename": "RateLimitError",
     "evalue": "Error code: 429 - {'error': {'code': '429', 'message': 'Requests to the ChatCompletions_Create Operation under Azure OpenAI API version 2024-02-15-preview have exceeded token rate limit of your current OpenAI S0 pricing tier. Please retry after 86400 seconds. Please go here: https://aka.ms/oai/quotaincrease if you would like to further increase the default rate limit.'}}",
     "output_type": "error",
     "traceback": [
      "\u001b[0;31m---------------------------------------------------------------------------\u001b[0m",
      "\u001b[0;31mRateLimitError\u001b[0m                            Traceback (most recent call last)",
      "\u001b[0;32m<ipython-input-44-31db7fb99fa6>\u001b[0m in \u001b[0;36m<cell line: 3>\u001b[0;34m()\u001b[0m\n\u001b[1;32m      1\u001b[0m \u001b[0murl\u001b[0m \u001b[0;34m=\u001b[0m \u001b[0;34m\"https://dev.to/opire/11-practical-ways-to-bring-side-income-as-a-developer-5apm\"\u001b[0m\u001b[0;34m\u001b[0m\u001b[0;34m\u001b[0m\u001b[0m\n\u001b[1;32m      2\u001b[0m \u001b[0mtext\u001b[0m \u001b[0;34m=\u001b[0m \u001b[0mextract_text_from_url\u001b[0m\u001b[0;34m(\u001b[0m\u001b[0murl\u001b[0m\u001b[0;34m)\u001b[0m\u001b[0;34m\u001b[0m\u001b[0;34m\u001b[0m\u001b[0m\n\u001b[0;32m----> 3\u001b[0;31m \u001b[0marticle\u001b[0m \u001b[0;34m=\u001b[0m \u001b[0mtranslate_article\u001b[0m\u001b[0;34m(\u001b[0m\u001b[0mtext\u001b[0m\u001b[0;34m,\u001b[0m \u001b[0;34m\"portugues\"\u001b[0m\u001b[0;34m)\u001b[0m\u001b[0;34m\u001b[0m\u001b[0;34m\u001b[0m\u001b[0m\n\u001b[0m",
      "\u001b[0;32m<ipython-input-42-4120562c6b8a>\u001b[0m in \u001b[0;36mtranslate_article\u001b[0;34m(text, lang)\u001b[0m\n\u001b[1;32m     15\u001b[0m   ]\n\u001b[1;32m     16\u001b[0m \u001b[0;34m\u001b[0m\u001b[0m\n\u001b[0;32m---> 17\u001b[0;31m   \u001b[0mresponse\u001b[0m \u001b[0;34m=\u001b[0m \u001b[0mclient\u001b[0m\u001b[0;34m.\u001b[0m\u001b[0minvoke\u001b[0m\u001b[0;34m(\u001b[0m\u001b[0mmessages\u001b[0m\u001b[0;34m)\u001b[0m\u001b[0;34m\u001b[0m\u001b[0;34m\u001b[0m\u001b[0m\n\u001b[0m\u001b[1;32m     18\u001b[0m   \u001b[0mprint\u001b[0m\u001b[0;34m(\u001b[0m\u001b[0mresponse\u001b[0m\u001b[0;34m.\u001b[0m\u001b[0mcontent\u001b[0m\u001b[0;34m)\u001b[0m\u001b[0;34m\u001b[0m\u001b[0;34m\u001b[0m\u001b[0m\n\u001b[1;32m     19\u001b[0m   \u001b[0;32mreturn\u001b[0m\u001b[0;34m(\u001b[0m\u001b[0mresponse\u001b[0m\u001b[0;34m.\u001b[0m\u001b[0mcontent\u001b[0m\u001b[0;34m)\u001b[0m\u001b[0;34m\u001b[0m\u001b[0;34m\u001b[0m\u001b[0m\n",
      "\u001b[0;32m/usr/local/lib/python3.10/dist-packages/langchain_core/language_models/chat_models.py\u001b[0m in \u001b[0;36minvoke\u001b[0;34m(self, input, config, stop, **kwargs)\u001b[0m\n\u001b[1;32m    284\u001b[0m         return cast(\n\u001b[1;32m    285\u001b[0m             \u001b[0mChatGeneration\u001b[0m\u001b[0;34m,\u001b[0m\u001b[0;34m\u001b[0m\u001b[0;34m\u001b[0m\u001b[0m\n\u001b[0;32m--> 286\u001b[0;31m             self.generate_prompt(\n\u001b[0m\u001b[1;32m    287\u001b[0m                 \u001b[0;34m[\u001b[0m\u001b[0mself\u001b[0m\u001b[0;34m.\u001b[0m\u001b[0m_convert_input\u001b[0m\u001b[0;34m(\u001b[0m\u001b[0minput\u001b[0m\u001b[0;34m)\u001b[0m\u001b[0;34m]\u001b[0m\u001b[0;34m,\u001b[0m\u001b[0;34m\u001b[0m\u001b[0;34m\u001b[0m\u001b[0m\n\u001b[1;32m    288\u001b[0m                 \u001b[0mstop\u001b[0m\u001b[0;34m=\u001b[0m\u001b[0mstop\u001b[0m\u001b[0;34m,\u001b[0m\u001b[0;34m\u001b[0m\u001b[0;34m\u001b[0m\u001b[0m\n",
      "\u001b[0;32m/usr/local/lib/python3.10/dist-packages/langchain_core/language_models/chat_models.py\u001b[0m in \u001b[0;36mgenerate_prompt\u001b[0;34m(self, prompts, stop, callbacks, **kwargs)\u001b[0m\n\u001b[1;32m    784\u001b[0m     ) -> LLMResult:\n\u001b[1;32m    785\u001b[0m         \u001b[0mprompt_messages\u001b[0m \u001b[0;34m=\u001b[0m \u001b[0;34m[\u001b[0m\u001b[0mp\u001b[0m\u001b[0;34m.\u001b[0m\u001b[0mto_messages\u001b[0m\u001b[0;34m(\u001b[0m\u001b[0;34m)\u001b[0m \u001b[0;32mfor\u001b[0m \u001b[0mp\u001b[0m \u001b[0;32min\u001b[0m \u001b[0mprompts\u001b[0m\u001b[0;34m]\u001b[0m\u001b[0;34m\u001b[0m\u001b[0;34m\u001b[0m\u001b[0m\n\u001b[0;32m--> 786\u001b[0;31m         \u001b[0;32mreturn\u001b[0m \u001b[0mself\u001b[0m\u001b[0;34m.\u001b[0m\u001b[0mgenerate\u001b[0m\u001b[0;34m(\u001b[0m\u001b[0mprompt_messages\u001b[0m\u001b[0;34m,\u001b[0m \u001b[0mstop\u001b[0m\u001b[0;34m=\u001b[0m\u001b[0mstop\u001b[0m\u001b[0;34m,\u001b[0m \u001b[0mcallbacks\u001b[0m\u001b[0;34m=\u001b[0m\u001b[0mcallbacks\u001b[0m\u001b[0;34m,\u001b[0m \u001b[0;34m**\u001b[0m\u001b[0mkwargs\u001b[0m\u001b[0;34m)\u001b[0m\u001b[0;34m\u001b[0m\u001b[0;34m\u001b[0m\u001b[0m\n\u001b[0m\u001b[1;32m    787\u001b[0m \u001b[0;34m\u001b[0m\u001b[0m\n\u001b[1;32m    788\u001b[0m     async def agenerate_prompt(\n",
      "\u001b[0;32m/usr/local/lib/python3.10/dist-packages/langchain_core/language_models/chat_models.py\u001b[0m in \u001b[0;36mgenerate\u001b[0;34m(self, messages, stop, callbacks, tags, metadata, run_name, run_id, **kwargs)\u001b[0m\n\u001b[1;32m    641\u001b[0m                 \u001b[0;32mif\u001b[0m \u001b[0mrun_managers\u001b[0m\u001b[0;34m:\u001b[0m\u001b[0;34m\u001b[0m\u001b[0;34m\u001b[0m\u001b[0m\n\u001b[1;32m    642\u001b[0m                     \u001b[0mrun_managers\u001b[0m\u001b[0;34m[\u001b[0m\u001b[0mi\u001b[0m\u001b[0;34m]\u001b[0m\u001b[0;34m.\u001b[0m\u001b[0mon_llm_error\u001b[0m\u001b[0;34m(\u001b[0m\u001b[0me\u001b[0m\u001b[0;34m,\u001b[0m \u001b[0mresponse\u001b[0m\u001b[0;34m=\u001b[0m\u001b[0mLLMResult\u001b[0m\u001b[0;34m(\u001b[0m\u001b[0mgenerations\u001b[0m\u001b[0;34m=\u001b[0m\u001b[0;34m[\u001b[0m\u001b[0;34m]\u001b[0m\u001b[0;34m)\u001b[0m\u001b[0;34m)\u001b[0m\u001b[0;34m\u001b[0m\u001b[0;34m\u001b[0m\u001b[0m\n\u001b[0;32m--> 643\u001b[0;31m                 \u001b[0;32mraise\u001b[0m \u001b[0me\u001b[0m\u001b[0;34m\u001b[0m\u001b[0;34m\u001b[0m\u001b[0m\n\u001b[0m\u001b[1;32m    644\u001b[0m         flattened_outputs = [\n\u001b[1;32m    645\u001b[0m             \u001b[0mLLMResult\u001b[0m\u001b[0;34m(\u001b[0m\u001b[0mgenerations\u001b[0m\u001b[0;34m=\u001b[0m\u001b[0;34m[\u001b[0m\u001b[0mres\u001b[0m\u001b[0;34m.\u001b[0m\u001b[0mgenerations\u001b[0m\u001b[0;34m]\u001b[0m\u001b[0;34m,\u001b[0m \u001b[0mllm_output\u001b[0m\u001b[0;34m=\u001b[0m\u001b[0mres\u001b[0m\u001b[0;34m.\u001b[0m\u001b[0mllm_output\u001b[0m\u001b[0;34m)\u001b[0m  \u001b[0;31m# type: ignore[list-item]\u001b[0m\u001b[0;34m\u001b[0m\u001b[0;34m\u001b[0m\u001b[0m\n",
      "\u001b[0;32m/usr/local/lib/python3.10/dist-packages/langchain_core/language_models/chat_models.py\u001b[0m in \u001b[0;36mgenerate\u001b[0;34m(self, messages, stop, callbacks, tags, metadata, run_name, run_id, **kwargs)\u001b[0m\n\u001b[1;32m    631\u001b[0m             \u001b[0;32mtry\u001b[0m\u001b[0;34m:\u001b[0m\u001b[0;34m\u001b[0m\u001b[0;34m\u001b[0m\u001b[0m\n\u001b[1;32m    632\u001b[0m                 results.append(\n\u001b[0;32m--> 633\u001b[0;31m                     self._generate_with_cache(\n\u001b[0m\u001b[1;32m    634\u001b[0m                         \u001b[0mm\u001b[0m\u001b[0;34m,\u001b[0m\u001b[0;34m\u001b[0m\u001b[0;34m\u001b[0m\u001b[0m\n\u001b[1;32m    635\u001b[0m                         \u001b[0mstop\u001b[0m\u001b[0;34m=\u001b[0m\u001b[0mstop\u001b[0m\u001b[0;34m,\u001b[0m\u001b[0;34m\u001b[0m\u001b[0;34m\u001b[0m\u001b[0m\n",
      "\u001b[0;32m/usr/local/lib/python3.10/dist-packages/langchain_core/language_models/chat_models.py\u001b[0m in \u001b[0;36m_generate_with_cache\u001b[0;34m(self, messages, stop, run_manager, **kwargs)\u001b[0m\n\u001b[1;32m    849\u001b[0m         \u001b[0;32melse\u001b[0m\u001b[0;34m:\u001b[0m\u001b[0;34m\u001b[0m\u001b[0;34m\u001b[0m\u001b[0m\n\u001b[1;32m    850\u001b[0m             \u001b[0;32mif\u001b[0m \u001b[0minspect\u001b[0m\u001b[0;34m.\u001b[0m\u001b[0msignature\u001b[0m\u001b[0;34m(\u001b[0m\u001b[0mself\u001b[0m\u001b[0;34m.\u001b[0m\u001b[0m_generate\u001b[0m\u001b[0;34m)\u001b[0m\u001b[0;34m.\u001b[0m\u001b[0mparameters\u001b[0m\u001b[0;34m.\u001b[0m\u001b[0mget\u001b[0m\u001b[0;34m(\u001b[0m\u001b[0;34m\"run_manager\"\u001b[0m\u001b[0;34m)\u001b[0m\u001b[0;34m:\u001b[0m\u001b[0;34m\u001b[0m\u001b[0;34m\u001b[0m\u001b[0m\n\u001b[0;32m--> 851\u001b[0;31m                 result = self._generate(\n\u001b[0m\u001b[1;32m    852\u001b[0m                     \u001b[0mmessages\u001b[0m\u001b[0;34m,\u001b[0m \u001b[0mstop\u001b[0m\u001b[0;34m=\u001b[0m\u001b[0mstop\u001b[0m\u001b[0;34m,\u001b[0m \u001b[0mrun_manager\u001b[0m\u001b[0;34m=\u001b[0m\u001b[0mrun_manager\u001b[0m\u001b[0;34m,\u001b[0m \u001b[0;34m**\u001b[0m\u001b[0mkwargs\u001b[0m\u001b[0;34m\u001b[0m\u001b[0;34m\u001b[0m\u001b[0m\n\u001b[1;32m    853\u001b[0m                 )\n",
      "\u001b[0;32m/usr/local/lib/python3.10/dist-packages/langchain_openai/chat_models/base.py\u001b[0m in \u001b[0;36m_generate\u001b[0;34m(self, messages, stop, run_manager, **kwargs)\u001b[0m\n\u001b[1;32m    687\u001b[0m             \u001b[0mgeneration_info\u001b[0m \u001b[0;34m=\u001b[0m \u001b[0;34m{\u001b[0m\u001b[0;34m\"headers\"\u001b[0m\u001b[0;34m:\u001b[0m \u001b[0mdict\u001b[0m\u001b[0;34m(\u001b[0m\u001b[0mraw_response\u001b[0m\u001b[0;34m.\u001b[0m\u001b[0mheaders\u001b[0m\u001b[0;34m)\u001b[0m\u001b[0;34m}\u001b[0m\u001b[0;34m\u001b[0m\u001b[0;34m\u001b[0m\u001b[0m\n\u001b[1;32m    688\u001b[0m         \u001b[0;32melse\u001b[0m\u001b[0;34m:\u001b[0m\u001b[0;34m\u001b[0m\u001b[0;34m\u001b[0m\u001b[0m\n\u001b[0;32m--> 689\u001b[0;31m             \u001b[0mresponse\u001b[0m \u001b[0;34m=\u001b[0m \u001b[0mself\u001b[0m\u001b[0;34m.\u001b[0m\u001b[0mclient\u001b[0m\u001b[0;34m.\u001b[0m\u001b[0mcreate\u001b[0m\u001b[0;34m(\u001b[0m\u001b[0;34m**\u001b[0m\u001b[0mpayload\u001b[0m\u001b[0;34m)\u001b[0m\u001b[0;34m\u001b[0m\u001b[0;34m\u001b[0m\u001b[0m\n\u001b[0m\u001b[1;32m    690\u001b[0m         \u001b[0;32mreturn\u001b[0m \u001b[0mself\u001b[0m\u001b[0;34m.\u001b[0m\u001b[0m_create_chat_result\u001b[0m\u001b[0;34m(\u001b[0m\u001b[0mresponse\u001b[0m\u001b[0;34m,\u001b[0m \u001b[0mgeneration_info\u001b[0m\u001b[0;34m)\u001b[0m\u001b[0;34m\u001b[0m\u001b[0;34m\u001b[0m\u001b[0m\n\u001b[1;32m    691\u001b[0m \u001b[0;34m\u001b[0m\u001b[0m\n",
      "\u001b[0;32m/usr/local/lib/python3.10/dist-packages/openai/_utils/_utils.py\u001b[0m in \u001b[0;36mwrapper\u001b[0;34m(*args, **kwargs)\u001b[0m\n\u001b[1;32m    273\u001b[0m                         \u001b[0mmsg\u001b[0m \u001b[0;34m=\u001b[0m \u001b[0;34mf\"Missing required argument: {quote(missing[0])}\"\u001b[0m\u001b[0;34m\u001b[0m\u001b[0;34m\u001b[0m\u001b[0m\n\u001b[1;32m    274\u001b[0m                 \u001b[0;32mraise\u001b[0m \u001b[0mTypeError\u001b[0m\u001b[0;34m(\u001b[0m\u001b[0mmsg\u001b[0m\u001b[0;34m)\u001b[0m\u001b[0;34m\u001b[0m\u001b[0;34m\u001b[0m\u001b[0m\n\u001b[0;32m--> 275\u001b[0;31m             \u001b[0;32mreturn\u001b[0m \u001b[0mfunc\u001b[0m\u001b[0;34m(\u001b[0m\u001b[0;34m*\u001b[0m\u001b[0margs\u001b[0m\u001b[0;34m,\u001b[0m \u001b[0;34m**\u001b[0m\u001b[0mkwargs\u001b[0m\u001b[0;34m)\u001b[0m\u001b[0;34m\u001b[0m\u001b[0;34m\u001b[0m\u001b[0m\n\u001b[0m\u001b[1;32m    276\u001b[0m \u001b[0;34m\u001b[0m\u001b[0m\n\u001b[1;32m    277\u001b[0m         \u001b[0;32mreturn\u001b[0m \u001b[0mwrapper\u001b[0m  \u001b[0;31m# type: ignore\u001b[0m\u001b[0;34m\u001b[0m\u001b[0;34m\u001b[0m\u001b[0m\n",
      "\u001b[0;32m/usr/local/lib/python3.10/dist-packages/openai/resources/chat/completions.py\u001b[0m in \u001b[0;36mcreate\u001b[0;34m(self, messages, model, audio, frequency_penalty, function_call, functions, logit_bias, logprobs, max_completion_tokens, max_tokens, metadata, modalities, n, parallel_tool_calls, prediction, presence_penalty, response_format, seed, service_tier, stop, store, stream, stream_options, temperature, tool_choice, tools, top_logprobs, top_p, user, extra_headers, extra_query, extra_body, timeout)\u001b[0m\n\u001b[1;32m    827\u001b[0m     ) -> ChatCompletion | Stream[ChatCompletionChunk]:\n\u001b[1;32m    828\u001b[0m         \u001b[0mvalidate_response_format\u001b[0m\u001b[0;34m(\u001b[0m\u001b[0mresponse_format\u001b[0m\u001b[0;34m)\u001b[0m\u001b[0;34m\u001b[0m\u001b[0;34m\u001b[0m\u001b[0m\n\u001b[0;32m--> 829\u001b[0;31m         return self._post(\n\u001b[0m\u001b[1;32m    830\u001b[0m             \u001b[0;34m\"/chat/completions\"\u001b[0m\u001b[0;34m,\u001b[0m\u001b[0;34m\u001b[0m\u001b[0;34m\u001b[0m\u001b[0m\n\u001b[1;32m    831\u001b[0m             body=maybe_transform(\n",
      "\u001b[0;32m/usr/local/lib/python3.10/dist-packages/openai/_base_client.py\u001b[0m in \u001b[0;36mpost\u001b[0;34m(self, path, cast_to, body, options, files, stream, stream_cls)\u001b[0m\n\u001b[1;32m   1276\u001b[0m             \u001b[0mmethod\u001b[0m\u001b[0;34m=\u001b[0m\u001b[0;34m\"post\"\u001b[0m\u001b[0;34m,\u001b[0m \u001b[0murl\u001b[0m\u001b[0;34m=\u001b[0m\u001b[0mpath\u001b[0m\u001b[0;34m,\u001b[0m \u001b[0mjson_data\u001b[0m\u001b[0;34m=\u001b[0m\u001b[0mbody\u001b[0m\u001b[0;34m,\u001b[0m \u001b[0mfiles\u001b[0m\u001b[0;34m=\u001b[0m\u001b[0mto_httpx_files\u001b[0m\u001b[0;34m(\u001b[0m\u001b[0mfiles\u001b[0m\u001b[0;34m)\u001b[0m\u001b[0;34m,\u001b[0m \u001b[0;34m**\u001b[0m\u001b[0moptions\u001b[0m\u001b[0;34m\u001b[0m\u001b[0;34m\u001b[0m\u001b[0m\n\u001b[1;32m   1277\u001b[0m         )\n\u001b[0;32m-> 1278\u001b[0;31m         \u001b[0;32mreturn\u001b[0m \u001b[0mcast\u001b[0m\u001b[0;34m(\u001b[0m\u001b[0mResponseT\u001b[0m\u001b[0;34m,\u001b[0m \u001b[0mself\u001b[0m\u001b[0;34m.\u001b[0m\u001b[0mrequest\u001b[0m\u001b[0;34m(\u001b[0m\u001b[0mcast_to\u001b[0m\u001b[0;34m,\u001b[0m \u001b[0mopts\u001b[0m\u001b[0;34m,\u001b[0m \u001b[0mstream\u001b[0m\u001b[0;34m=\u001b[0m\u001b[0mstream\u001b[0m\u001b[0;34m,\u001b[0m \u001b[0mstream_cls\u001b[0m\u001b[0;34m=\u001b[0m\u001b[0mstream_cls\u001b[0m\u001b[0;34m)\u001b[0m\u001b[0;34m)\u001b[0m\u001b[0;34m\u001b[0m\u001b[0;34m\u001b[0m\u001b[0m\n\u001b[0m\u001b[1;32m   1279\u001b[0m \u001b[0;34m\u001b[0m\u001b[0m\n\u001b[1;32m   1280\u001b[0m     def patch(\n",
      "\u001b[0;32m/usr/local/lib/python3.10/dist-packages/openai/_base_client.py\u001b[0m in \u001b[0;36mrequest\u001b[0;34m(self, cast_to, options, remaining_retries, stream, stream_cls)\u001b[0m\n\u001b[1;32m    953\u001b[0m             \u001b[0mretries_taken\u001b[0m \u001b[0;34m=\u001b[0m \u001b[0;36m0\u001b[0m\u001b[0;34m\u001b[0m\u001b[0;34m\u001b[0m\u001b[0m\n\u001b[1;32m    954\u001b[0m \u001b[0;34m\u001b[0m\u001b[0m\n\u001b[0;32m--> 955\u001b[0;31m         return self._request(\n\u001b[0m\u001b[1;32m    956\u001b[0m             \u001b[0mcast_to\u001b[0m\u001b[0;34m=\u001b[0m\u001b[0mcast_to\u001b[0m\u001b[0;34m,\u001b[0m\u001b[0;34m\u001b[0m\u001b[0;34m\u001b[0m\u001b[0m\n\u001b[1;32m    957\u001b[0m             \u001b[0moptions\u001b[0m\u001b[0;34m=\u001b[0m\u001b[0moptions\u001b[0m\u001b[0;34m,\u001b[0m\u001b[0;34m\u001b[0m\u001b[0;34m\u001b[0m\u001b[0m\n",
      "\u001b[0;32m/usr/local/lib/python3.10/dist-packages/openai/_base_client.py\u001b[0m in \u001b[0;36m_request\u001b[0;34m(self, cast_to, options, retries_taken, stream, stream_cls)\u001b[0m\n\u001b[1;32m   1057\u001b[0m \u001b[0;34m\u001b[0m\u001b[0m\n\u001b[1;32m   1058\u001b[0m             \u001b[0mlog\u001b[0m\u001b[0;34m.\u001b[0m\u001b[0mdebug\u001b[0m\u001b[0;34m(\u001b[0m\u001b[0;34m\"Re-raising status error\"\u001b[0m\u001b[0;34m)\u001b[0m\u001b[0;34m\u001b[0m\u001b[0;34m\u001b[0m\u001b[0m\n\u001b[0;32m-> 1059\u001b[0;31m             \u001b[0;32mraise\u001b[0m \u001b[0mself\u001b[0m\u001b[0;34m.\u001b[0m\u001b[0m_make_status_error_from_response\u001b[0m\u001b[0;34m(\u001b[0m\u001b[0merr\u001b[0m\u001b[0;34m.\u001b[0m\u001b[0mresponse\u001b[0m\u001b[0;34m)\u001b[0m \u001b[0;32mfrom\u001b[0m \u001b[0;32mNone\u001b[0m\u001b[0;34m\u001b[0m\u001b[0;34m\u001b[0m\u001b[0m\n\u001b[0m\u001b[1;32m   1060\u001b[0m \u001b[0;34m\u001b[0m\u001b[0m\n\u001b[1;32m   1061\u001b[0m         return self._process_response(\n",
      "\u001b[0;31mRateLimitError\u001b[0m: Error code: 429 - {'error': {'code': '429', 'message': 'Requests to the ChatCompletions_Create Operation under Azure OpenAI API version 2024-02-15-preview have exceeded token rate limit of your current OpenAI S0 pricing tier. Please retry after 86400 seconds. Please go here: https://aka.ms/oai/quotaincrease if you would like to further increase the default rate limit.'}}"
     ]
    }
   ],
   "source": [
    "url = \"https://dev.to/opire/11-practical-ways-to-bring-side-income-as-a-developer-5apm\"\n",
    "text = extract_text_from_url(url)\n",
    "article = translate_article(text, \"portugues\")"
   ]
  }
 ],
 "metadata": {
  "colab": {
   "provenance": []
  },
  "kernelspec": {
   "display_name": "Python 3",
   "name": "python3"
  },
  "language_info": {
   "codemirror_mode": {
    "name": "ipython",
    "version": 3
   },
   "file_extension": ".py",
   "mimetype": "text/x-python",
   "name": "python",
   "nbconvert_exporter": "python",
   "pygments_lexer": "ipython3",
   "version": "3.13.0"
  }
 },
 "nbformat": 4,
 "nbformat_minor": 0
}
